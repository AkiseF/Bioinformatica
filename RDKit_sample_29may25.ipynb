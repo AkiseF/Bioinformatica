{
  "nbformat": 4,
  "nbformat_minor": 0,
  "metadata": {
    "colab": {
      "provenance": [],
      "include_colab_link": true
    },
    "kernelspec": {
      "name": "python3",
      "display_name": "Python 3"
    },
    "language_info": {
      "name": "python"
    }
  },
  "cells": [
    {
      "cell_type": "markdown",
      "metadata": {
        "id": "view-in-github",
        "colab_type": "text"
      },
      "source": [
        "<a href=\"https://colab.research.google.com/github/AkiseF/Bioinformatica/blob/main/RDKit_sample_29may25.ipynb\" target=\"_parent\"><img src=\"https://colab.research.google.com/assets/colab-badge.svg\" alt=\"Open In Colab\"/></a>"
      ]
    },
    {
      "cell_type": "markdown",
      "source": [
        "Example of chemical descriptors using RDKit\n",
        "\n",
        "https://colab.research.google.com/drive/1I4hnHSxpfdEzP0S1eOrv41lk9Xv3AGY7?usp=sharing\n",
        "\n",
        "Author: Jorge Luis Rosas Trigueros\n",
        "\n",
        "Last modification: 29may25 16:47"
      ],
      "metadata": {
        "id": "AePfEWmEOhe0"
      }
    },
    {
      "cell_type": "markdown",
      "source": [],
      "metadata": {
        "id": "1muYcaZOOt64"
      }
    },
    {
      "cell_type": "code",
      "execution_count": null,
      "metadata": {
        "colab": {
          "base_uri": "https://localhost:8080/"
        },
        "id": "0DPTnzPFNRP9",
        "outputId": "edd22c93-578b-4703-b76c-c6ae14de5352"
      },
      "outputs": [
        {
          "output_type": "stream",
          "name": "stdout",
          "text": [
            "Collecting rdkit\n",
            "  Downloading rdkit-2025.3.2-cp311-cp311-manylinux_2_28_x86_64.whl.metadata (4.0 kB)\n",
            "Requirement already satisfied: numpy in /usr/local/lib/python3.11/dist-packages (from rdkit) (2.0.2)\n",
            "Requirement already satisfied: Pillow in /usr/local/lib/python3.11/dist-packages (from rdkit) (11.2.1)\n",
            "Downloading rdkit-2025.3.2-cp311-cp311-manylinux_2_28_x86_64.whl (35.2 MB)\n",
            "\u001b[2K   \u001b[90m━━━━━━━━━━━━━━━━━━━━━━━━━━━━━━━━━━━━━━━━\u001b[0m \u001b[32m35.2/35.2 MB\u001b[0m \u001b[31m15.0 MB/s\u001b[0m eta \u001b[36m0:00:00\u001b[0m\n",
            "\u001b[?25hInstalling collected packages: rdkit\n",
            "Successfully installed rdkit-2025.3.2\n"
          ]
        }
      ],
      "source": [
        "!pip install rdkit"
      ]
    },
    {
      "cell_type": "code",
      "source": [
        "from rdkit import Chem"
      ],
      "metadata": {
        "id": "tuyMkcnhNaxf"
      },
      "execution_count": null,
      "outputs": []
    },
    {
      "cell_type": "code",
      "source": [
        "smiles='CC(=O)Oc1ccccc1C(=O)O'\n",
        "\n",
        "mol = Chem.MolFromSmiles(smiles)"
      ],
      "metadata": {
        "id": "MbzVuJGANcAp"
      },
      "execution_count": null,
      "outputs": []
    },
    {
      "cell_type": "code",
      "source": [
        "from rdkit.Chem import Descriptors\n"
      ],
      "metadata": {
        "id": "gxjeMDVtN96j"
      },
      "execution_count": null,
      "outputs": []
    },
    {
      "cell_type": "code",
      "source": [
        "Descriptors.CalcMolDescriptors(mol)"
      ],
      "metadata": {
        "colab": {
          "base_uri": "https://localhost:8080/"
        },
        "id": "ZgxpRy2nN_PI",
        "outputId": "ca00d132-4a57-4649-c338-8327ab193e6a"
      },
      "execution_count": null,
      "outputs": [
        {
          "output_type": "execute_result",
          "data": {
            "text/plain": [
              "{'MaxAbsEStateIndex': np.float64(10.611948223733938),\n",
              " 'MaxEStateIndex': np.float64(10.611948223733938),\n",
              " 'MinAbsEStateIndex': np.float64(0.01601851851851821),\n",
              " 'MinEStateIndex': np.float64(-1.1140277777777776),\n",
              " 'qed': 0.5501217966938848,\n",
              " 'SPS': 9.307692307692308,\n",
              " 'MolWt': 180.15899999999996,\n",
              " 'HeavyAtomMolWt': 172.09499999999997,\n",
              " 'ExactMolWt': 180.042258736,\n",
              " 'NumValenceElectrons': 68,\n",
              " 'NumRadicalElectrons': 0,\n",
              " 'MaxPartialCharge': 0.33900378687731025,\n",
              " 'MinPartialCharge': -0.4775395271554559,\n",
              " 'MaxAbsPartialCharge': 0.4775395271554559,\n",
              " 'MinAbsPartialCharge': 0.33900378687731025,\n",
              " 'FpDensityMorgan1': 1.3076923076923077,\n",
              " 'FpDensityMorgan2': 1.9230769230769231,\n",
              " 'FpDensityMorgan3': 2.4615384615384617,\n",
              " 'BCUT2D_MWHI': 16.53611122125433,\n",
              " 'BCUT2D_MWLOW': 10.182282381035343,\n",
              " 'BCUT2D_CHGHI': 2.104306980957856,\n",
              " 'BCUT2D_CHGLO': -2.0311320919470135,\n",
              " 'BCUT2D_LOGPHI': 2.1698345568128055,\n",
              " 'BCUT2D_LOGPLOW': -2.063000061964296,\n",
              " 'BCUT2D_MRHI': 5.913065796110142,\n",
              " 'BCUT2D_MRLOW': -0.13141434244030561,\n",
              " 'AvgIpc': 2.0325369160995868,\n",
              " 'BalabanJ': np.float64(3.0435273546341013),\n",
              " 'BertzCT': 343.2228677267164,\n",
              " 'Chi0': np.float64(9.844934982691242),\n",
              " 'Chi0n': 6.9813595436500515,\n",
              " 'Chi0v': 6.9813595436500515,\n",
              " 'Chi1': np.float64(6.109060905280622),\n",
              " 'Chi1n': 3.6174536478673316,\n",
              " 'Chi1v': 3.6174536478673316,\n",
              " 'Chi2n': 2.3949556783206725,\n",
              " 'Chi2v': 2.3949556783206725,\n",
              " 'Chi3n': 1.3711546649445037,\n",
              " 'Chi3v': 1.3711546649445037,\n",
              " 'Chi4n': 0.8871712192374142,\n",
              " 'Chi4v': 0.8871712192374142,\n",
              " 'HallKierAlpha': -1.8399999999999999,\n",
              " 'Ipc': np.float64(729.6807528797516),\n",
              " 'Kappa1': 9.249605734767023,\n",
              " 'Kappa2': 3.7092512583454584,\n",
              " 'Kappa3': 2.297415032519928,\n",
              " 'LabuteASA': 74.75705264447721,\n",
              " 'PEOE_VSA1': 9.843390348640755,\n",
              " 'PEOE_VSA10': 11.3129633249809,\n",
              " 'PEOE_VSA11': 0.0,\n",
              " 'PEOE_VSA12': 0.0,\n",
              " 'PEOE_VSA13': 0.0,\n",
              " 'PEOE_VSA14': 11.938610575903699,\n",
              " 'PEOE_VSA2': 4.794537184071822,\n",
              " 'PEOE_VSA3': 4.794537184071822,\n",
              " 'PEOE_VSA4': 0.0,\n",
              " 'PEOE_VSA5': 0.0,\n",
              " 'PEOE_VSA6': 12.13273413692322,\n",
              " 'PEOE_VSA7': 12.13273413692322,\n",
              " 'PEOE_VSA8': 6.923737199690624,\n",
              " 'PEOE_VSA9': 0.0,\n",
              " 'SMR_VSA1': 19.432464716784395,\n",
              " 'SMR_VSA10': 11.938610575903699,\n",
              " 'SMR_VSA2': 0.0,\n",
              " 'SMR_VSA3': 0.0,\n",
              " 'SMR_VSA4': 0.0,\n",
              " 'SMR_VSA5': 6.923737199690624,\n",
              " 'SMR_VSA6': 0.0,\n",
              " 'SMR_VSA7': 29.828919765543436,\n",
              " 'SMR_VSA8': 0.0,\n",
              " 'SMR_VSA9': 5.749511833283905,\n",
              " 'SlogP_VSA1': 4.736862953800049,\n",
              " 'SlogP_VSA10': 0.0,\n",
              " 'SlogP_VSA11': 5.749511833283905,\n",
              " 'SlogP_VSA12': 0.0,\n",
              " 'SlogP_VSA2': 17.045137970744406,\n",
              " 'SlogP_VSA3': 4.794537184071822,\n",
              " 'SlogP_VSA4': 0.0,\n",
              " 'SlogP_VSA5': 17.28172587545944,\n",
              " 'SlogP_VSA6': 24.26546827384644,\n",
              " 'SlogP_VSA7': 0.0,\n",
              " 'SlogP_VSA8': 0.0,\n",
              " 'SlogP_VSA9': 0.0,\n",
              " 'TPSA': 63.60000000000001,\n",
              " 'EState_VSA1': np.float64(11.938610575903699),\n",
              " 'EState_VSA10': np.float64(9.589074368143644),\n",
              " 'EState_VSA11': np.float64(0.0),\n",
              " 'EState_VSA2': np.float64(11.3129633249809),\n",
              " 'EState_VSA3': np.float64(0.0),\n",
              " 'EState_VSA4': np.float64(0.0),\n",
              " 'EState_VSA5': np.float64(19.056471336613843),\n",
              " 'EState_VSA6': np.float64(12.13273413692322),\n",
              " 'EState_VSA7': np.float64(0.0),\n",
              " 'EState_VSA8': np.float64(4.736862953800049),\n",
              " 'EState_VSA9': np.float64(5.106527394840706),\n",
              " 'VSA_EState1': np.float64(4.686898148148147),\n",
              " 'VSA_EState10': np.float64(0.0),\n",
              " 'VSA_EState2': np.float64(21.184767573696142),\n",
              " 'VSA_EState3': np.float64(8.687243008314436),\n",
              " 'VSA_EState4': np.float64(-0.01601851851851821),\n",
              " 'VSA_EState5': np.float64(-1.575879629629629),\n",
              " 'VSA_EState6': np.float64(5.978792517006803),\n",
              " 'VSA_EState7': np.float64(0.0),\n",
              " 'VSA_EState8': np.float64(1.2208635676492818),\n",
              " 'VSA_EState9': np.float64(0.0),\n",
              " 'FractionCSP3': 0.1111111111111111,\n",
              " 'HeavyAtomCount': 13,\n",
              " 'NHOHCount': 1,\n",
              " 'NOCount': 4,\n",
              " 'NumAliphaticCarbocycles': 0,\n",
              " 'NumAliphaticHeterocycles': 0,\n",
              " 'NumAliphaticRings': 0,\n",
              " 'NumAmideBonds': 0,\n",
              " 'NumAromaticCarbocycles': 1,\n",
              " 'NumAromaticHeterocycles': 0,\n",
              " 'NumAromaticRings': 1,\n",
              " 'NumAtomStereoCenters': 0,\n",
              " 'NumBridgeheadAtoms': 0,\n",
              " 'NumHAcceptors': 3,\n",
              " 'NumHDonors': 1,\n",
              " 'NumHeteroatoms': 4,\n",
              " 'NumHeterocycles': 0,\n",
              " 'NumRotatableBonds': 2,\n",
              " 'NumSaturatedCarbocycles': 0,\n",
              " 'NumSaturatedHeterocycles': 0,\n",
              " 'NumSaturatedRings': 0,\n",
              " 'NumSpiroAtoms': 0,\n",
              " 'NumUnspecifiedAtomStereoCenters': 0,\n",
              " 'Phi': 2.639162439298765,\n",
              " 'RingCount': 1,\n",
              " 'MolLogP': 1.3101,\n",
              " 'MolMR': 44.71030000000002,\n",
              " 'fr_Al_COO': 0,\n",
              " 'fr_Al_OH': 0,\n",
              " 'fr_Al_OH_noTert': 0,\n",
              " 'fr_ArN': 0,\n",
              " 'fr_Ar_COO': 1,\n",
              " 'fr_Ar_N': 0,\n",
              " 'fr_Ar_NH': 0,\n",
              " 'fr_Ar_OH': 0,\n",
              " 'fr_COO': 1,\n",
              " 'fr_COO2': 1,\n",
              " 'fr_C_O': 2,\n",
              " 'fr_C_O_noCOO': 1,\n",
              " 'fr_C_S': 0,\n",
              " 'fr_HOCCN': 0,\n",
              " 'fr_Imine': 0,\n",
              " 'fr_NH0': 0,\n",
              " 'fr_NH1': 0,\n",
              " 'fr_NH2': 0,\n",
              " 'fr_N_O': 0,\n",
              " 'fr_Ndealkylation1': 0,\n",
              " 'fr_Ndealkylation2': 0,\n",
              " 'fr_Nhpyrrole': 0,\n",
              " 'fr_SH': 0,\n",
              " 'fr_aldehyde': 0,\n",
              " 'fr_alkyl_carbamate': 0,\n",
              " 'fr_alkyl_halide': 0,\n",
              " 'fr_allylic_oxid': 0,\n",
              " 'fr_amide': 0,\n",
              " 'fr_amidine': 0,\n",
              " 'fr_aniline': 0,\n",
              " 'fr_aryl_methyl': 0,\n",
              " 'fr_azide': 0,\n",
              " 'fr_azo': 0,\n",
              " 'fr_barbitur': 0,\n",
              " 'fr_benzene': 1,\n",
              " 'fr_benzodiazepine': 0,\n",
              " 'fr_bicyclic': 0,\n",
              " 'fr_diazo': 0,\n",
              " 'fr_dihydropyridine': 0,\n",
              " 'fr_epoxide': 0,\n",
              " 'fr_ester': 1,\n",
              " 'fr_ether': 1,\n",
              " 'fr_furan': 0,\n",
              " 'fr_guanido': 0,\n",
              " 'fr_halogen': 0,\n",
              " 'fr_hdrzine': 0,\n",
              " 'fr_hdrzone': 0,\n",
              " 'fr_imidazole': 0,\n",
              " 'fr_imide': 0,\n",
              " 'fr_isocyan': 0,\n",
              " 'fr_isothiocyan': 0,\n",
              " 'fr_ketone': 0,\n",
              " 'fr_ketone_Topliss': 0,\n",
              " 'fr_lactam': 0,\n",
              " 'fr_lactone': 0,\n",
              " 'fr_methoxy': 0,\n",
              " 'fr_morpholine': 0,\n",
              " 'fr_nitrile': 0,\n",
              " 'fr_nitro': 0,\n",
              " 'fr_nitro_arom': 0,\n",
              " 'fr_nitro_arom_nonortho': 0,\n",
              " 'fr_nitroso': 0,\n",
              " 'fr_oxazole': 0,\n",
              " 'fr_oxime': 0,\n",
              " 'fr_para_hydroxylation': 1,\n",
              " 'fr_phenol': 0,\n",
              " 'fr_phenol_noOrthoHbond': 0,\n",
              " 'fr_phos_acid': 0,\n",
              " 'fr_phos_ester': 0,\n",
              " 'fr_piperdine': 0,\n",
              " 'fr_piperzine': 0,\n",
              " 'fr_priamide': 0,\n",
              " 'fr_prisulfonamd': 0,\n",
              " 'fr_pyridine': 0,\n",
              " 'fr_quatN': 0,\n",
              " 'fr_sulfide': 0,\n",
              " 'fr_sulfonamd': 0,\n",
              " 'fr_sulfone': 0,\n",
              " 'fr_term_acetylene': 0,\n",
              " 'fr_tetrazole': 0,\n",
              " 'fr_thiazole': 0,\n",
              " 'fr_thiocyan': 0,\n",
              " 'fr_thiophene': 0,\n",
              " 'fr_unbrch_alkane': 0,\n",
              " 'fr_urea': 0}"
            ]
          },
          "metadata": {},
          "execution_count": 5
        }
      ]
    }
  ]
}